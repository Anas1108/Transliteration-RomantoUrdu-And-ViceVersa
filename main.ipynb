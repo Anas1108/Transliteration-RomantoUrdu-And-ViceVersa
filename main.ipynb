{
 "cells": [
  {
   "cell_type": "markdown",
   "id": "247c663a",
   "metadata": {},
   "source": [
    "# Name : Anas Zafar"
   ]
  },
  {
   "cell_type": "markdown",
   "id": "80d54f53",
   "metadata": {},
   "source": [
    "# Emai-Id : i191676@nu.edu.pk\n"
   ]
  },
  {
   "cell_type": "code",
   "execution_count": 45,
   "id": "6849e7e1",
   "metadata": {},
   "outputs": [],
   "source": [
    "import urduhack"
   ]
  },
  {
   "cell_type": "code",
   "execution_count": 46,
   "id": "08d4631d",
   "metadata": {},
   "outputs": [],
   "source": [
    "roman_urdu_Dict = {\n",
    "            u\"\\u0627\":\"A\",\n",
    "            u\"\\u0627\":\"A\", \n",
    "            u\"\\u0675\":\"A\", \n",
    "            u\"\\u0673\":\"A\", \n",
    "            u\"\\u0630\":\"A\", \n",
    "            u\"\\u0622\":\"AA\", \n",
    "            u\"\\u0628\":\"B\", \n",
    "            u\"\\u067E\":\"P\", \n",
    "            u\"\\u062A\":\"T\", \n",
    "            u\"\\u0637\":\"T\", \n",
    "            u\"\\u0679\":\"T\", \n",
    "            u\"\\u062C\":\"J\", \n",
    "            u\"\\u0633\":\"S\", \n",
    "            u\"\\u062B\":\"S\", \n",
    "            u\"\\u0635\":\"S\", \n",
    "            u\"\\u0686\":\"CH\", \n",
    "            u\"\\u062D\":\"H\", \n",
    "            u\"\\u0647\":\"H\", \n",
    "            u\"\\u0629\":\"H\", \n",
    "            u\"\\u06DF\":\"H\", \n",
    "            u\"\\u062E\":\"KH\", \n",
    "            u\"\\u062F\":\"D\", \n",
    "            u\"\\u0688\":\"D\", \n",
    "            u\"\\u0630\":\"Z\", \n",
    "            u\"\\u0632\":\"Z\", \n",
    "            u\"\\u0636\":\"Z\", \n",
    "            u\"\\u0638\":\"Z\", \n",
    "            u\"\\u068E\":\"Z\", \n",
    "            u\"\\u0631\":\"R\", \n",
    "            u\"\\u0691\":\"R\", \n",
    "            u\"\\u0634\":\"SH\", \n",
    "            u\"\\u063A\":\"GH\", \n",
    "            u\"\\u0641\":\"F\", \n",
    "            u\"\\u06A9\":\"K\", \n",
    "            u\"\\u0642\":\"K\", \n",
    "            u\"\\u06AF\":\"G\", \n",
    "            u\"\\u0644\":\"L\", \n",
    "            u\"\\u0645\":\"M\", \n",
    "            u\"\\u0646\":\"N\", \n",
    "            u\"\\u06BA\":\"N\", \n",
    "            u\"\\u0648\":\"O\", \n",
    "            u\"\\u0649\":\"Y\", \n",
    "            u\"\\u0626\":\"Y\", \n",
    "            u\"\\u06CC\":\"Y\", \n",
    "            u\"\\u06D2\":\"E\", \n",
    "            u\"\\u06C1\":\"H\",\n",
    "            u\"\\u064A\":\"E\",\n",
    "            u\"\\u06C2\":\"AH\",\n",
    "            u\"\\u06BE\":\"H\",\n",
    "            u\"\\u0639\":\"A\",\n",
    "            u\"\\u0643\":\"K\",\n",
    "            u\"\\u0621\":\"A\",\n",
    "            u\"\\u0624\":\"O\",\n",
    "            \"ہیں\":\"AYN\",\n",
    "            \"ہیں\":\"AIN\",\n",
    "            \" \":\" \"}"
   ]
  },
  {
   "cell_type": "code",
   "execution_count": 47,
   "id": "95710ea2",
   "metadata": {},
   "outputs": [],
   "source": [
    "def roman2Urdu(roman):\n",
    "    urdu=''\n",
    "    for i in range(len(roman)):\n",
    "        for k, v in roman_urdu_Dict.items():\n",
    "            if roman[i]==v:\n",
    "                urdu=urdu+k\n",
    "                break\n",
    "    return urdu"
   ]
  },
  {
   "cell_type": "code",
   "execution_count": 48,
   "id": "6894499d",
   "metadata": {},
   "outputs": [],
   "source": [
    "def urdu2Roman(urdu):\n",
    "    roman=''\n",
    "    for i in range(len(urdu)):\n",
    "        for k, v in roman_urdu_Dict.items():\n",
    "            if urdu[i]==k:\n",
    "                roman=roman+v\n",
    "    return roman"
   ]
  },
  {
   "cell_type": "code",
   "execution_count": 49,
   "id": "7514cf64",
   "metadata": {},
   "outputs": [
    {
     "data": {
      "text/plain": [
       "'DL TOR SKTE HYN ASOL NHYN'"
      ]
     },
     "execution_count": 49,
     "metadata": {},
     "output_type": "execute_result"
    }
   ],
   "source": [
    "urduline=\"دل توڑ سکتے ہیں اصول نہیں\"\n",
    "urdu2Roman(urduline)"
   ]
  },
  {
   "cell_type": "code",
   "execution_count": 50,
   "id": "54c7417e",
   "metadata": {},
   "outputs": [
    {
     "data": {
      "text/plain": [
       "'دل تور ساکتاى حان اسوول نح'"
      ]
     },
     "execution_count": 50,
     "metadata": {},
     "output_type": "execute_result"
    }
   ],
   "source": [
    "romanLine='dil tor saktay hain asool nhi'\n",
    "romanLine=romanLine.upper()\n",
    "roman2Urdu(romanLine)"
   ]
  }
 ],
 "metadata": {
  "kernelspec": {
   "display_name": "Python 3",
   "language": "python",
   "name": "python3"
  },
  "language_info": {
   "codemirror_mode": {
    "name": "ipython",
    "version": 3
   },
   "file_extension": ".py",
   "mimetype": "text/x-python",
   "name": "python",
   "nbconvert_exporter": "python",
   "pygments_lexer": "ipython3",
   "version": "3.8.8"
  }
 },
 "nbformat": 4,
 "nbformat_minor": 5
}
